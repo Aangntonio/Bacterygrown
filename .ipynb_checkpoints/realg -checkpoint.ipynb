{
 "cells": [
  {
   "cell_type": "code",
   "execution_count": 7,
   "id": "7c119f98",
   "metadata": {},
   "outputs": [],
   "source": [
    "import matplotlib.pyplot as plt\n",
    "import numpy as np"
   ]
  },
  {
   "cell_type": "code",
   "execution_count": 39,
   "id": "fbed79fb",
   "metadata": {},
   "outputs": [],
   "source": [
    "class bactery :\n",
    "    def __init__(self, position, time):\n",
    "        self.position = position\n",
    "        self.time = time\n",
    "    \n",
    "    def chechktime(self):\n",
    "        if self.time_reprocutcion()== True:\n",
    "            self.move()\n",
    "    \n",
    "    def time_reprocutcion(self):\n",
    "        if self.time == 10:\n",
    "            #print('i can have sex and reproduce myself :D')\n",
    "            return True\n",
    "        else:\n",
    "            #print('the bactery has to has 10 of time to reprudce them')\n",
    "            return False\n",
    "            \n",
    "    def move(self):\n",
    "        self.position[0] = self.position[0] + np.random.choice([0, 1,-1])\n",
    "        self.position[1] = self.position[1] + np.random.choice([0, 1,-1])\n",
    "        \n",
    "        newposition = tuple(self.position[0] + np.random.choice([0, 1,-1]),self.position[2] + np.random.choice([0, 1,-1]))\n",
    "        \n",
    "        class bcatery(bactery):\n",
    "            def __init__(sef,position,time):\n",
    "                self.position = newposition\n",
    "                self.time = time +1\n",
    "        \n",
    "        if self.position[0] == abs(5):\n",
    "            if self.position[0] == 5:\n",
    "                self.position[0] = self.position[0]-1\n",
    "            elif self.position[0] == -5:\n",
    "                self.position[0] = self.position[0]+1  \n",
    "        if self.position[1] == abs(5):\n",
    "            if self.position[1] == 5:\n",
    "                self.position[1] = self.position[1]-1\n",
    "            elif self.position[1] == -5:\n",
    "                self.position[1] = self.position[1]+1\n",
    "\n",
    "        x = self.position[0]\n",
    "        y = self.position[1]\n",
    "        lado = 10\n",
    "        xs = [-lado/2, lado/2, lado/2, -lado/2, -lado/2]\n",
    "        ys = [-lado/2, -lado/2, lado/2, lado/2, -lado/2]\n",
    "        plt.plot(x,y,'ro',color='blue')\n",
    "        plt.plot(xs,ys,'ro-')\n",
    "        plt.grid()\n",
    "        plt.xlim(-10,10)\n",
    "        plt.ylim(-10,10)\n",
    "        plt.show()\n",
    "        print(self.position)\n",
    "\n",
    "class newbactery(bactery):\n",
    "    def __init__(self, position, time, strength):\n",
    "        super().__init__(position, time)  # Llamada al constructor de la superclase\n",
    "        self.time = time +1\n",
    "        \n",
    "        \n",
    "    "
   ]
  },
  {
   "cell_type": "code",
   "execution_count": 12,
   "id": "76811b53",
   "metadata": {},
   "outputs": [
    {
     "ename": "SyntaxError",
     "evalue": "invalid syntax (2178515352.py, line 3)",
     "output_type": "error",
     "traceback": [
      "\u001b[1;36m  File \u001b[1;32m\"C:\\Users\\Antonio González\\AppData\\Local\\Temp\\ipykernel_11600\\2178515352.py\"\u001b[1;36m, line \u001b[1;32m3\u001b[0m\n\u001b[1;33m    bactery  =\u001b[0m\n\u001b[1;37m               ^\u001b[0m\n\u001b[1;31mSyntaxError\u001b[0m\u001b[1;31m:\u001b[0m invalid syntax\n"
     ]
    }
   ],
   "source": []
  },
  {
   "cell_type": "code",
   "execution_count": 9,
   "id": "9bc317a5",
   "metadata": {},
   "outputs": [],
   "source": [
    " ecolli = bactery((0,0),10)"
   ]
  },
  {
   "cell_type": "code",
   "execution_count": 14,
   "id": "222d9b2c",
   "metadata": {},
   "outputs": [],
   "source": [
    "bacertia= bactery([0,1],5)"
   ]
  },
  {
   "cell_type": "code",
   "execution_count": 10,
   "id": "51cb7ae0",
   "metadata": {},
   "outputs": [
    {
     "data": {
      "text/plain": [
       "[0, 0]"
      ]
     },
     "execution_count": 10,
     "metadata": {},
     "output_type": "execute_result"
    }
   ],
   "source": [
    "ecolli.position"
   ]
  },
  {
   "cell_type": "code",
   "execution_count": 16,
   "id": "8033ac17",
   "metadata": {},
   "outputs": [
    {
     "data": {
      "text/plain": [
       "10"
      ]
     },
     "execution_count": 16,
     "metadata": {},
     "output_type": "execute_result"
    }
   ],
   "source": [
    "ecolli.time"
   ]
  },
  {
   "cell_type": "code",
   "execution_count": 17,
   "id": "189d45af",
   "metadata": {},
   "outputs": [
    {
     "name": "stdout",
     "output_type": "stream",
     "text": [
      "i can have sex and reproduce myself :D\n"
     ]
    },
    {
     "data": {
      "text/plain": [
       "True"
      ]
     },
     "execution_count": 17,
     "metadata": {},
     "output_type": "execute_result"
    }
   ],
   "source": [
    "ecolli.time_reprocutcion()"
   ]
  },
  {
   "cell_type": "code",
   "execution_count": 43,
   "id": "82e5aa09",
   "metadata": {},
   "outputs": [],
   "source": [
    "def generator(t):\n",
    "    i = 0\n",
    "    name_bac = 'bactery_'\n",
    "    positions = []\n",
    "    \n",
    "    while i< 10 :\n",
    "        newbactery = bactery([0,0],t)\n",
    "    \n",
    "        positions.append(newbactery.position)\n",
    "        t = t +1\n",
    "    return positions\n"
   ]
  },
  {
   "cell_type": "code",
   "execution_count": null,
   "id": "6fc7f4f6",
   "metadata": {},
   "outputs": [],
   "source": [
    "generator(10)"
   ]
  },
  {
   "cell_type": "code",
   "execution_count": 73,
   "id": "858b397d",
   "metadata": {},
   "outputs": [
    {
     "name": "stdout",
     "output_type": "stream",
     "text": [
      "[(3, 1), (1, 3), (1, 3), (5, 4), (1, 5), (3, 5), (3, 3), (3, 3), (4, 5), (3, 3), (3, 2), (3, 1), (4, 1), (3, 4), (1, 4), (4, 2), (5, 3), (5, 2), (2, 5), (5, 4), (2, 5), (3, 5), (2, 5), (3, 2), (5, 4), (1, 1)]\n"
     ]
    }
   ],
   "source": [
    "i = 0\n",
    "j = 0\n",
    "list_poistion =[]\n",
    "position = ''\n",
    "\n",
    "while i < 6:\n",
    "    positionx =np.random.randint(i, 6)\n",
    "    while j <6 :\n",
    "        \n",
    "    positiony = np.random.randint(1, 6)\n",
    "    position = (positionx,positiony)\n",
    "    list_poistion.append(position)\n",
    "    i = i +1\n",
    "print(list_poistion)"
   ]
  },
  {
   "cell_type": "code",
   "execution_count": null,
   "id": "88a1a3bc",
   "metadata": {},
   "outputs": [],
   "source": [
    "bactery"
   ]
  },
  {
   "cell_type": "code",
   "execution_count": 14,
   "id": "03485cac",
   "metadata": {},
   "outputs": [
    {
     "name": "stdout",
     "output_type": "stream",
     "text": [
      "el tiempo de cada célula es de : 10\n"
     ]
    }
   ],
   "source": [
    "print(\"el tiempo de cada célula es de :\", ecolli.time)"
   ]
  },
  {
   "cell_type": "code",
   "execution_count": 96,
   "id": "71cea9ac",
   "metadata": {},
   "outputs": [],
   "source": [
    "class Contenedor:\n",
    "    def __init__(self,timeglobal,times,positions,bacterias):\n",
    "        \n",
    "        self.timeglobal = timeglobal\n",
    "        self.times = times\n",
    "        self.positions = positions\n",
    "        self.bacterias = bacterias\n",
    "    \n",
    "    def lista_timepos(self):\n",
    "        tiempos_bacteria = []\n",
    "    \n",
    "    def lista_posiciones(self):\n",
    "        posicion_bacteria = []\n",
    "        \n",
    "    \n",
    "    "
   ]
  },
  {
   "cell_type": "code",
   "execution_count": 99,
   "id": "4e0146fc",
   "metadata": {},
   "outputs": [],
   "source": [
    "Contenedor_inicial = Contenedor(10,[10,9,18],[(0,2),(0,3),(0,4)],['bacteria','bacteria2'])"
   ]
  },
  {
   "cell_type": "code",
   "execution_count": 104,
   "id": "0e7ed833",
   "metadata": {},
   "outputs": [],
   "source": [
    "ecollis = bactery((0,2),10)"
   ]
  },
  {
   "cell_type": "code",
   "execution_count": 111,
   "id": "f0be8b00",
   "metadata": {},
   "outputs": [
    {
     "name": "stdout",
     "output_type": "stream",
     "text": [
      "me reproduzco hdlv\n"
     ]
    }
   ],
   "source": [
    "if ecollis.position in Contenedor_inicial.positions:\n",
    "    print('me reproduzco hdlv')"
   ]
  },
  {
   "cell_type": "code",
   "execution_count": null,
   "id": "bcc30db3",
   "metadata": {},
   "outputs": [],
   "source": []
  }
 ],
 "metadata": {
  "kernelspec": {
   "display_name": "Python 3 (ipykernel)",
   "language": "python",
   "name": "python3"
  },
  "language_info": {
   "codemirror_mode": {
    "name": "ipython",
    "version": 3
   },
   "file_extension": ".py",
   "mimetype": "text/x-python",
   "name": "python",
   "nbconvert_exporter": "python",
   "pygments_lexer": "ipython3",
   "version": "3.9.13"
  }
 },
 "nbformat": 4,
 "nbformat_minor": 5
}
