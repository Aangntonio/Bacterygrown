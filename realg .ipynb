{
 "cells": [
  {
   "cell_type": "code",
   "execution_count": 7,
   "id": "7c119f98",
   "metadata": {},
   "outputs": [],
   "source": [
    "import matplotlib.pyplot as plt\n",
    "import numpy as np"
   ]
  },
  {
   "cell_type": "code",
   "execution_count": 598,
   "id": "fbed79fb",
   "metadata": {},
   "outputs": [],
   "source": [
    "class bactery :\n",
    "    def __init__(self,position,time ):\n",
    "        self.position = position\n",
    "        self.time = time\n",
    "    \n",
    "    def chechktime(self):\n",
    "        if self.time_reprocutcion():\n",
    "            self.move()\n",
    "    \n",
    "    def time_reprocutcion(self):\n",
    "        if self.time == 10:\n",
    "            #print('i can have sex and reproduce :D')\n",
    "            return True\n",
    "        else:\n",
    "            print('the bactery has to has 10 of time to reprudce them')\n",
    "            return False\n",
    "            \n",
    "    def move(self):\n",
    "        self.position[0] = self.position[0]+np.random.choice([0, 1,-1])\n",
    "        self.position[1] = self.position[1]+np.random.choice([0, 1,-1])\n",
    "        \n",
    "        if self.position[0] == abs(5):\n",
    "            if self.position[0] == 5:\n",
    "                self.position[0] = self.position[0]-1\n",
    "            elif self.position[0] == -5:\n",
    "                self.position[0] = self.position[0]+1  \n",
    "        if self.position[1] == abs(5):\n",
    "            if self.position[1] == 5:\n",
    "                self.position[1] = self.position[1]-1\n",
    "            elif self.position[1] == -5:\n",
    "                self.position[1] = self.position[1]+1\n",
    "\n",
    "        x = self.position[0]\n",
    "        y = self.position[1]\n",
    "        lado = 10\n",
    "        xs = [-lado/2, lado/2, lado/2, -lado/2, -lado/2]\n",
    "        ys = [-lado/2, -lado/2, lado/2, lado/2, -lado/2]\n",
    "        plt.plot(x,y,'ro',color='blue')\n",
    "        plt.plot(xs,ys,'ro-')\n",
    "        plt.grid()\n",
    "        plt.xlim(-10,10)\n",
    "        plt.ylim(-10,10)\n",
    "        plt.show()\n",
    "        print(self.position)\n",
    "    \n",
    "    "
   ]
  },
  {
   "cell_type": "code",
   "execution_count": 599,
   "id": "9bc317a5",
   "metadata": {},
   "outputs": [],
   "source": [
    " ecolli = bactery([0,0],10)"
   ]
  },
  {
   "cell_type": "code",
   "execution_count": 571,
   "id": "222d9b2c",
   "metadata": {},
   "outputs": [],
   "source": [
    "bacertia= bactery([0,1],5)"
   ]
  },
  {
   "cell_type": "code",
   "execution_count": 600,
   "id": "51cb7ae0",
   "metadata": {},
   "outputs": [
    {
     "data": {
      "text/plain": [
       "[0, 0]"
      ]
     },
     "execution_count": 600,
     "metadata": {},
     "output_type": "execute_result"
    }
   ],
   "source": [
    "ecolli.position"
   ]
  },
  {
   "cell_type": "code",
   "execution_count": 601,
   "id": "8033ac17",
   "metadata": {},
   "outputs": [
    {
     "data": {
      "text/plain": [
       "10"
      ]
     },
     "execution_count": 601,
     "metadata": {},
     "output_type": "execute_result"
    }
   ],
   "source": [
    "ecolli.time"
   ]
  },
  {
   "cell_type": "code",
   "execution_count": 603,
   "id": "189d45af",
   "metadata": {},
   "outputs": [
    {
     "data": {
      "text/plain": [
       "True"
      ]
     },
     "execution_count": 603,
     "metadata": {},
     "output_type": "execute_result"
    }
   ],
   "source": [
    "ecolli.time_reprocutcion()"
   ]
  },
  {
   "cell_type": "code",
   "execution_count": 634,
   "id": "ce669218",
   "metadata": {},
   "outputs": [
    {
     "name": "stderr",
     "output_type": "stream",
     "text": [
      "C:\\Users\\Dulce\\AppData\\Local\\Temp\\ipykernel_11428\\3291296491.py:38: UserWarning: color is redundantly defined by the 'color' keyword argument and the fmt string \"ro\" (-> color='r'). The keyword argument will take precedence.\n",
      "  plt.plot(x,y,'ro',color='blue')\n"
     ]
    },
    {
     "data": {
      "image/png": "[encoded data removed]",
      "text/plain": [
       "<Figure size 640x480 with 1 Axes>"
      ]
     },
     "metadata": {},
     "output_type": "display_data"
    },
    {
     "name": "stdout",
     "output_type": "stream",
     "text": [
      "[2, 2]\n"
     ]
    }
   ],
   "source": [
    "ecolli.chechktime()\n"
   ]
  },
  {
   "cell_type": "code",
   "execution_count": 136,
   "id": "03485cac",
   "metadata": {},
   "outputs": [
    {
     "name": "stdout",
     "output_type": "stream",
     "text": [
      "el tiempo de cada célula es de : 10\n"
     ]
    }
   ],
   "source": [
    "print(\"el tiempo de cada célula es de :\", ecolli.time)"
   ]
  },
  {
   "cell_type": "code",
   "execution_count": 264,
   "id": "49e3f582",
   "metadata": {},
   "outputs": [
    {
     "name": "stdout",
     "output_type": "stream",
     "text": [
      "[1, 1]\n",
      "[-1, 2, 3, 2, 3]\n",
      "[-1, 2, 3, 2, 3]\n"
     ]
    },
    {
     "data": {
      "image/png": "[encoded data removed]",
      "text/plain": [
       "<Figure size 640x480 with 1 Axes>"
      ]
     },
     "metadata": {},
     "output_type": "display_data"
    }
   ],
   "source": [
    "array = [np.random.choice([0, 1,-1]),np.random.choice([0, 1])]\n",
    "print(array)\n",
    "import matplotlib.pyplot as plt\n",
    "\n",
    "x = []\n",
    "y = []\n",
    "\n",
    "for i in range(5):\n",
    "    j = np.random.choice([0, 1,-1])\n",
    "    x.append(i+j)\n",
    "    y.append(i+j)\n",
    "print(x)\n",
    "print(y)\n",
    "fig, ax = plt.subplots()\n",
    "ax.scatter(x, y, color='red')\n",
    "plt.grid()"
   ]
  }
 ],
 "metadata": {
  "kernelspec": {
   "display_name": "Python 3 (ipykernel)",
   "language": "python",
   "name": "python3"
  },
  "language_info": {
   "codemirror_mode": {
    "name": "ipython",
    "version": 3
   },
   "file_extension": ".py",
   "mimetype": "text/x-python",
   "name": "python",
   "nbconvert_exporter": "python",
   "pygments_lexer": "ipython3",
   "version": "3.9.13"
  }
 },
 "nbformat": 4,
 "nbformat_minor": 5
}
