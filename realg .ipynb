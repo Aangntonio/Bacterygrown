{
 "cells": [
  {
   "cell_type": "code",
   "execution_count": 1,
   "id": "7c119f98",
   "metadata": {},
   "outputs": [],
   "source": [
    "import matplotlib.pyplot as plt\n",
    "import numpy as np"
   ]
  },
  {
   "cell_type": "code",
   "execution_count": 2,
   "id": "fbed79fb",
   "metadata": {},
   "outputs": [],
   "source": [
    "class bactery :\n",
    "    def __init__(self, position, time):\n",
    "        self.position = position\n",
    "        self.time = time\n",
    "    \n",
    "    def chechktime(self):\n",
    "        if self.time_reprocutcion()== True:\n",
    "            self.move()\n",
    "    \n",
    "    def time_reprocutcion(self):\n",
    "        if self.time == 10:\n",
    "            #print('i can have sex and reproduce myself :D')\n",
    "            return True\n",
    "        else:\n",
    "            #print('the bactery has to has 10 of time to reprudce them')\n",
    "            return False\n",
    "            \n",
    "    def move(self):\n",
    "        self.position[0] = self.position[0] + np.random.choice([0, 1,-1])\n",
    "        self.position[1] = self.position[1] + np.random.choice([0, 1,-1])\n",
    "        \n",
    "        newposition = tuple(self.position[0] + np.random.choice([0, 1,-1]),self.position[2] + np.random.choice([0, 1,-1]))\n",
    "        \n",
    "        class bcatery(bactery):\n",
    "            def __init__(sef,position,time):\n",
    "                self.position = newposition\n",
    "                self.time = time +1\n",
    "        \n",
    "        if self.position[0] == abs(5):\n",
    "            if self.position[0] == 5:\n",
    "                self.position[0] = self.position[0]-1\n",
    "            elif self.position[0] == -5:\n",
    "                self.position[0] = self.position[0]+1  \n",
    "        if self.position[1] == abs(5):\n",
    "            if self.position[1] == 5:\n",
    "                self.position[1] = self.position[1]-1\n",
    "            elif self.position[1] == -5:\n",
    "                self.position[1] = self.position[1]+1\n",
    "\n",
    "        x = self.position[0]\n",
    "        y = self.position[1]\n",
    "        lado = 10\n",
    "        xs = [-lado/2, lado/2, lado/2, -lado/2, -lado/2]\n",
    "        ys = [-lado/2, -lado/2, lado/2, lado/2, -lado/2]\n",
    "        plt.plot(x,y,'ro',color='blue')\n",
    "        plt.plot(xs,ys,'ro-')\n",
    "        plt.grid()\n",
    "        plt.xlim(-10,10)\n",
    "        plt.ylim(-10,10)\n",
    "        plt.show()\n",
    "        print(self.position)\n",
    "\n",
    "class newbactery(bactery):\n",
    "    def __init__(self, position, time, strength):\n",
    "        super().__init__(position, time)  # Llamada al constructor de la superclase\n",
    "        self.time = time +1\n",
    "        \n",
    "        \n",
    "    "
   ]
  },
  {
   "cell_type": "code",
   "execution_count": null,
   "id": "76811b53",
   "metadata": {},
   "outputs": [],
   "source": []
  },
  {
   "cell_type": "code",
   "execution_count": 4,
   "id": "9bc317a5",
   "metadata": {},
   "outputs": [],
   "source": [
    " ecolli = bactery((0,0),10)"
   ]
  },
  {
   "cell_type": "code",
   "execution_count": 5,
   "id": "222d9b2c",
   "metadata": {},
   "outputs": [],
   "source": [
    "bacertia= bactery([0,1],5)"
   ]
  },
  {
   "cell_type": "code",
   "execution_count": 6,
   "id": "51cb7ae0",
   "metadata": {},
   "outputs": [
    {
     "data": {
      "text/plain": [
       "(0, 0)"
      ]
     },
     "execution_count": 6,
     "metadata": {},
     "output_type": "execute_result"
    }
   ],
   "source": [
    "ecolli.position"
   ]
  },
  {
   "cell_type": "code",
   "execution_count": 7,
   "id": "8033ac17",
   "metadata": {},
   "outputs": [
    {
     "data": {
      "text/plain": [
       "10"
      ]
     },
     "execution_count": 7,
     "metadata": {},
     "output_type": "execute_result"
    }
   ],
   "source": [
    "ecolli.time"
   ]
  },
  {
   "cell_type": "code",
   "execution_count": 8,
   "id": "189d45af",
   "metadata": {},
   "outputs": [
    {
     "data": {
      "text/plain": [
       "True"
      ]
     },
     "execution_count": 8,
     "metadata": {},
     "output_type": "execute_result"
    }
   ],
   "source": [
    "ecolli.time_reprocutcion()"
   ]
  },
  {
   "cell_type": "code",
   "execution_count": 9,
   "id": "82e5aa09",
   "metadata": {},
   "outputs": [],
   "source": [
    "def generator(t):\n",
    "    i = 0\n",
    "    name_bac = 'bactery_'\n",
    "    positions = []\n",
    "    \n",
    "    while i< 10 :\n",
    "        newbactery = bactery([0,0],t)\n",
    "    \n",
    "        positions.append(newbactery.position)\n",
    "        t = t +1\n",
    "    return positions\n"
   ]
  },
  {
   "cell_type": "code",
   "execution_count": 10,
   "id": "6fc7f4f6",
   "metadata": {},
   "outputs": [
    {
     "ename": "KeyboardInterrupt",
     "evalue": "",
     "output_type": "error",
     "traceback": [
      "\u001b[1;31m---------------------------------------------------------------------------\u001b[0m",
      "\u001b[1;31mKeyboardInterrupt\u001b[0m                         Traceback (most recent call last)",
      "\u001b[1;32m~\\AppData\\Local\\Temp\\ipykernel_14888\\2669120687.py\u001b[0m in \u001b[0;36m<module>\u001b[1;34m\u001b[0m\n\u001b[1;32m----> 1\u001b[1;33m \u001b[0mgenerator\u001b[0m\u001b[1;33m(\u001b[0m\u001b[1;36m10\u001b[0m\u001b[1;33m)\u001b[0m\u001b[1;33m\u001b[0m\u001b[1;33m\u001b[0m\u001b[0m\n\u001b[0m",
      "\u001b[1;32m~\\AppData\\Local\\Temp\\ipykernel_14888\\4168738344.py\u001b[0m in \u001b[0;36mgenerator\u001b[1;34m(t)\u001b[0m\n\u001b[0;32m      5\u001b[0m \u001b[1;33m\u001b[0m\u001b[0m\n\u001b[0;32m      6\u001b[0m     \u001b[1;32mwhile\u001b[0m \u001b[0mi\u001b[0m\u001b[1;33m<\u001b[0m \u001b[1;36m10\u001b[0m \u001b[1;33m:\u001b[0m\u001b[1;33m\u001b[0m\u001b[1;33m\u001b[0m\u001b[0m\n\u001b[1;32m----> 7\u001b[1;33m         \u001b[0mnewbactery\u001b[0m \u001b[1;33m=\u001b[0m \u001b[0mbactery\u001b[0m\u001b[1;33m(\u001b[0m\u001b[1;33m[\u001b[0m\u001b[1;36m0\u001b[0m\u001b[1;33m,\u001b[0m\u001b[1;36m0\u001b[0m\u001b[1;33m]\u001b[0m\u001b[1;33m,\u001b[0m\u001b[0mt\u001b[0m\u001b[1;33m)\u001b[0m\u001b[1;33m\u001b[0m\u001b[1;33m\u001b[0m\u001b[0m\n\u001b[0m\u001b[0;32m      8\u001b[0m \u001b[1;33m\u001b[0m\u001b[0m\n\u001b[0;32m      9\u001b[0m         \u001b[0mpositions\u001b[0m\u001b[1;33m.\u001b[0m\u001b[0mappend\u001b[0m\u001b[1;33m(\u001b[0m\u001b[0mnewbactery\u001b[0m\u001b[1;33m.\u001b[0m\u001b[0mposition\u001b[0m\u001b[1;33m)\u001b[0m\u001b[1;33m\u001b[0m\u001b[1;33m\u001b[0m\u001b[0m\n",
      "\u001b[1;31mKeyboardInterrupt\u001b[0m: "
     ]
    }
   ],
   "source": []
  },
  {
   "cell_type": "code",
   "execution_count": null,
   "id": "88a1a3bc",
   "metadata": {},
   "outputs": [],
   "source": [
    "bactery"
   ]
  },
  {
   "cell_type": "code",
   "execution_count": 11,
   "id": "03485cac",
   "metadata": {},
   "outputs": [
    {
     "name": "stdout",
     "output_type": "stream",
     "text": [
      "el tiempo de cada célula es de : 10\n"
     ]
    }
   ],
   "source": [
    "print(\"el tiempo de cada célula es de :\", ecolli.time)"
   ]
  },
  {
   "cell_type": "code",
   "execution_count": 12,
   "id": "71cea9ac",
   "metadata": {},
   "outputs": [],
   "source": [
    "class Contenedor:\n",
    "    def __init__(self,timeglobal,times,positions,bacterias):\n",
    "        \n",
    "        self.timeglobal = timeglobal\n",
    "        self.times = times\n",
    "        self.positions = positions\n",
    "        self.bacterias = bacterias\n",
    "    \n",
    "    def lista_timepos(self):\n",
    "        tiempos_bacteria = []\n",
    "        for element in tiempos_bacteria:\n",
    "            print(element)\n",
    "    \n",
    "    def lista_posiciones(self):\n",
    "        posicion_bacteria = []\n",
    "        \n",
    "    \n",
    "    "
   ]
  },
  {
   "cell_type": "code",
   "execution_count": 13,
   "id": "4e0146fc",
   "metadata": {},
   "outputs": [],
   "source": [
    "Contenedor_inicial = Contenedor(10,[10,9,18],[(0,2),(0,3),(0,4)],['bacteria','bacteria2'])"
   ]
  },
  {
   "cell_type": "code",
   "execution_count": 14,
   "id": "0e7ed833",
   "metadata": {},
   "outputs": [],
   "source": [
    "ecollis = bactery((0,2),10)"
   ]
  },
  {
   "cell_type": "code",
   "execution_count": 111,
   "id": "f0be8b00",
   "metadata": {},
   "outputs": [
    {
     "name": "stdout",
     "output_type": "stream",
     "text": [
      "me reproduzco hdlv\n"
     ]
    }
   ],
   "source": [
    "if ecollis.position in Contenedor_inicial.positions:\n",
    "    print('me reproduzco hdlv')"
   ]
  },
  {
   "cell_type": "code",
   "execution_count": 39,
   "id": "bcc30db3",
   "metadata": {},
   "outputs": [
    {
     "name": "stdout",
     "output_type": "stream",
     "text": [
      "time global : 1\n",
      "time relative; -9\n",
      "time global : 2\n",
      "time relative; -8\n",
      "time global : 3\n",
      "time relative; -7\n",
      "time global : 4\n",
      "time relative; -6\n",
      "time global : 5\n",
      "time relative; -5\n",
      "time global : 6\n",
      "time relative; -4\n",
      "time global : 7\n",
      "time relative; -3\n",
      "time global : 8\n",
      "time relative; -2\n",
      "time global : 9\n",
      "time relative; -1\n",
      "time global : 10\n",
      "time relative; 0\n",
      "time global : 11\n",
      "(0, 1)\n",
      "time relative; 1\n",
      "time global : 12\n",
      "time relative; 2\n",
      "time global : 13\n",
      "time relative; 3\n",
      "time global : 14\n",
      "time relative; 4\n",
      "time global : 15\n",
      "time relative; 5\n",
      "time global : 16\n",
      "time relative; 6\n",
      "time global : 17\n",
      "time relative; 7\n",
      "time global : 18\n",
      "time relative; 8\n",
      "time global : 19\n",
      "time relative; 9\n",
      "time global : 20\n",
      "time relative; 10\n",
      "time global : 21\n",
      "time relative; 11\n",
      "time global : 22\n",
      "time relative; 12\n",
      "time global : 23\n",
      "time relative; 13\n",
      "time global : 24\n",
      "time relative; 14\n",
      "time global : 25\n",
      "time relative; 15\n",
      "time global : 26\n",
      "time relative; 16\n",
      "time global : 27\n",
      "time relative; 17\n",
      "time global : 28\n",
      "time relative; 18\n",
      "time global : 29\n",
      "time relative; 19\n",
      "time global : 30\n",
      "time relative; 20\n",
      "time global : 31\n",
      "time relative; 21\n",
      "time global : 32\n",
      "time relative; 22\n",
      "time global : 33\n",
      "time relative; 23\n",
      "time global : 34\n",
      "time relative; 24\n",
      "time global : 35\n",
      "time relative; 25\n",
      "time global : 36\n",
      "time relative; 26\n",
      "time global : 37\n",
      "time relative; 27\n",
      "time global : 38\n",
      "time relative; 28\n",
      "time global : 39\n",
      "time relative; 29\n",
      "time global : 40\n",
      "time relative; 30\n",
      "time global : 41\n",
      "time relative; 31\n",
      "time global : 42\n",
      "time relative; 32\n",
      "time global : 43\n",
      "time relative; 33\n",
      "time global : 44\n",
      "time relative; 34\n",
      "time global : 45\n",
      "time relative; 35\n",
      "time global : 46\n",
      "time relative; 36\n",
      "time global : 47\n",
      "time relative; 37\n",
      "time global : 48\n",
      "time relative; 38\n",
      "time global : 49\n",
      "time relative; 39\n",
      "time global : 50\n",
      "time relative; 40\n",
      "time global : 51\n",
      "time relative; 41\n",
      "time global : 52\n",
      "time relative; 42\n",
      "time global : 53\n",
      "time relative; 43\n",
      "time global : 54\n",
      "time relative; 44\n",
      "time global : 55\n",
      "time relative; 45\n",
      "time global : 56\n",
      "time relative; 46\n",
      "time global : 57\n",
      "time relative; 47\n",
      "time global : 58\n",
      "time relative; 48\n",
      "time global : 59\n",
      "time relative; 49\n",
      "time global : 60\n",
      "time relative; 50\n",
      "time global : 61\n",
      "time relative; 51\n",
      "time global : 62\n",
      "time relative; 52\n",
      "time global : 63\n",
      "time relative; 53\n",
      "time global : 64\n",
      "time relative; 54\n",
      "time global : 65\n",
      "time relative; 55\n",
      "time global : 66\n",
      "time relative; 56\n",
      "time global : 67\n",
      "time relative; 57\n",
      "time global : 68\n",
      "time relative; 58\n",
      "time global : 69\n",
      "time relative; 59\n",
      "time global : 70\n",
      "time relative; 60\n",
      "time global : 71\n",
      "time relative; 61\n",
      "time global : 72\n",
      "time relative; 62\n",
      "time global : 73\n",
      "time relative; 63\n",
      "time global : 74\n",
      "time relative; 64\n",
      "time global : 75\n",
      "time relative; 65\n",
      "time global : 76\n",
      "time relative; 66\n",
      "time global : 77\n",
      "time relative; 67\n",
      "time global : 78\n",
      "time relative; 68\n",
      "time global : 79\n",
      "time relative; 69\n",
      "time global : 80\n",
      "time relative; 70\n",
      "time global : 81\n",
      "time relative; 71\n",
      "time global : 82\n",
      "time relative; 72\n",
      "time global : 83\n",
      "time relative; 73\n",
      "time global : 84\n",
      "time relative; 74\n",
      "time global : 85\n",
      "time relative; 75\n",
      "time global : 86\n",
      "time relative; 76\n",
      "time global : 87\n",
      "time relative; 77\n",
      "time global : 88\n",
      "time relative; 78\n",
      "time global : 89\n",
      "time relative; 79\n",
      "time global : 90\n",
      "time relative; 80\n",
      "time global : 91\n",
      "time relative; 81\n",
      "time global : 92\n",
      "time relative; 82\n",
      "time global : 93\n",
      "time relative; 83\n",
      "time global : 94\n",
      "time relative; 84\n",
      "time global : 95\n",
      "time relative; 85\n",
      "time global : 96\n",
      "time relative; 86\n",
      "time global : 97\n",
      "time relative; 87\n",
      "time global : 98\n",
      "time relative; 88\n",
      "time global : 99\n",
      "time relative; 89\n",
      "time global : 100\n",
      "time relative; 90\n"
     ]
    }
   ],
   "source": [
    "for t in range(1, 101, 1):\n",
    "    print('time global :', t)\n",
    "    bacteria_madre = bactery((0,0),t-1)\n",
    "    #print(bacteria_madre.time)\n",
    "    #print(bacteria_madre.time_reprocutcion()  )\n",
    "    #print('tiempo 1 : ', t)\n",
    "    if bacteria_madre.time_reprocutcion()  :\n",
    "        newbactery = bactery((0,1),10)\n",
    "        print(newbactery.position)\n",
    "    newbactery.time = t-10   \n",
    "    #if newbactery.time_reprocutcion():\n",
    "        #print('hay una nueva bacteria')\n",
    "    print('time relative;', newbactery.time)\n",
    "        #if newbactery.time_reprocutcion() \n",
    "        \n",
    "    \n",
    "     \n",
    "   # print(contenedor_nuevo.timeglobal)\n",
    "    "
   ]
  },
  {
   "cell_type": "code",
   "execution_count": null,
   "id": "c85fcbdb",
   "metadata": {},
   "outputs": [],
   "source": []
  }
 ],
 "metadata": {
  "kernelspec": {
   "display_name": "Python 3 (ipykernel)",
   "language": "python",
   "name": "python3"
  },
  "language_info": {
   "codemirror_mode": {
    "name": "ipython",
    "version": 3
   },
   "file_extension": ".py",
   "mimetype": "text/x-python",
   "name": "python",
   "nbconvert_exporter": "python",
   "pygments_lexer": "ipython3",
   "version": "3.9.13"
  }
 },
 "nbformat": 4,
 "nbformat_minor": 5
}
